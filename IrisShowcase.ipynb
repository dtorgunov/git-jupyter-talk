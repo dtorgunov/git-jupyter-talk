{
 "cells": [
  {
   "cell_type": "markdown",
   "metadata": {},
   "source": [
    "# Basic Statistics on the Iris Data Set"
   ]
  },
  {
   "cell_type": "markdown",
   "metadata": {},
   "source": [
    "This notebook will showcase some basic Python libraries used for statistics and data analysis. We will use the iris data set (bundled with this repository and also made available at the [UCI Machine Learning Repository](https://archive.ics.uci.edu/ml/datasets/iris)). For more information about the libraries used, please consult relevant documentation and tutorials:\n",
    "\n",
    "- [Pandas](https://pandas.pydata.org/) provides an implementation of R-like data frames, allowing us to incorporate meta-data, such as column names into the data structures, and allowing quick mapping of functions over rows and columns as necessary. The official [documentation](https://pandas.pydata.org/pandas-docs/stable/) includes a handy [tutorial](https://pandas.pydata.org/pandas-docs/stable/10min.html) to get you started. Also see this [cheatsheet](https://github.com/pandas-dev/pandas/blob/master/doc/cheatsheet/Pandas_Cheat_Sheet.pdf) for quick reference.\n",
    "- [Numpy](http://www.numpy.org/) and [scipy](https://www.scipy.org/) provide general numerical and scientific functions useful in a variety of cases. In addition to the documentation available at the links provided, there is also a variety of [tutorials](http://www.scipy-lectures.org/intro/) online\n",
    "- For plotting, [matplotlib](https://matplotlib.org/) can be used as the \"default\" plotting library, although other options are available. The best way, in our opinion, to get started with it, is by modifying example available at the [gallery](https://matplotlib.org/gallery/index.html), as well as following the provided [tutorials](https://matplotlib.org/tutorials/index.html). It is supported by Pandas natively, and can be extended with various other tools, such as:\n",
    "- [Seaborn](https://seaborn.pydata.org/) is a statistics plotting package that can be easily used to visualise a variety of information about the data. Once again, please refer to the [documentation](https://seaborn.pydata.org/api.html) and [tutorial](https://seaborn.pydata.org/tutorial.html) for more information\n",
    "\n",
    "In addition, [Markdown](https://daringfireball.net/projects/markdown/) is used by [Jupyter](https://jupyter.org/) to produce mark-up for plain text, including links and images (much like done in this very paragraph!). It is also supported by github and many other websites, and takes only a few minutes to [learn](https://guides.github.com/features/mastering-markdown/)."
   ]
  },
  {
   "cell_type": "markdown",
   "metadata": {},
   "source": [
    "Now, without further ado, let us dive in!"
   ]
  },
  {
   "cell_type": "code",
   "execution_count": 2,
   "metadata": {},
   "outputs": [],
   "source": [
    "import pandas as pd\n",
    "import matplotlib.pyplot as plt\n",
    "import seaborn as sns\n",
    "import numpy as np\n",
    "from scipy import stats, integrate\n",
    "sns.set(color_codes=True)\n",
    "%matplotlib inline"
   ]
  }
 ],
 "metadata": {
  "kernelspec": {
   "display_name": "Python 3",
   "language": "python",
   "name": "python3"
  },
  "language_info": {
   "codemirror_mode": {
    "name": "ipython",
    "version": 3
   },
   "file_extension": ".py",
   "mimetype": "text/x-python",
   "name": "python",
   "nbconvert_exporter": "python",
   "pygments_lexer": "ipython3",
   "version": "3.6.3"
  }
 },
 "nbformat": 4,
 "nbformat_minor": 2
}
